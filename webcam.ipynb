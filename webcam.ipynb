{
 "cells": [
  {
   "cell_type": "code",
   "execution_count": 1,
   "metadata": {},
   "outputs": [],
   "source": [
    "import cv2\n",
    "\n",
    "# Inisialisasi objek video capture\n",
    "cap = cv2.VideoCapture(0)  # Angka 0 menunjukkan penggunaan kamera default\n",
    "\n",
    "# Periksa apakah video capture telah berhasil dibuka\n",
    "if not cap.isOpened():\n",
    "    print(\"Error: Gagal membuka webcam.\")\n",
    "    exit()\n",
    "\n",
    "while True:\n",
    "    # Baca frame dari video capture\n",
    "    ret, frame = cap.read()\n",
    "\n",
    "    # Periksa apakah berhasil membaca frame\n",
    "    if not ret:\n",
    "        print(\"Error: Gagal membaca frame.\")\n",
    "        break\n",
    "\n",
    "    # Tampilkan frame di jendela\n",
    "    cv2.imshow(\"Webcam\", frame)\n",
    "\n",
    "    # Hentikan loop jika pengguna menekan tombol 'q'\n",
    "    if cv2.waitKey(1) & 0xFF == ord('q'):\n",
    "        break\n",
    "\n",
    "# Tutup video capture dan jendela tampilan\n",
    "cap.release()\n",
    "cv2.destroyAllWindows()\n"
   ]
  }
 ],
 "metadata": {
  "kernelspec": {
   "display_name": "venv",
   "language": "python",
   "name": "python3"
  },
  "language_info": {
   "codemirror_mode": {
    "name": "ipython",
    "version": 3
   },
   "file_extension": ".py",
   "mimetype": "text/x-python",
   "name": "python",
   "nbconvert_exporter": "python",
   "pygments_lexer": "ipython3",
   "version": "3.8.10"
  },
  "orig_nbformat": 4
 },
 "nbformat": 4,
 "nbformat_minor": 2
}
